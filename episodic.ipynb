{
 "cells": [
  {
   "cell_type": "markdown",
   "metadata": {
    "toc-hr-collapsed": false
   },
   "source": [
    "# EBH model of episodic memory"
   ]
  },
  {
   "cell_type": "markdown",
   "metadata": {
    "toc-hr-collapsed": false
   },
   "source": [
    "# Imports"
   ]
  },
  {
   "cell_type": "code",
   "execution_count": 1,
   "metadata": {},
   "outputs": [],
   "source": [
    "%matplotlib widget\n",
    "import numpy as np\n",
    "import matplotlib.pyplot as plt\n",
    "import time\n",
    "import pickle\n",
    "import math\n",
    "import sparse_weights as sw\n",
    "import etile as et"
   ]
  },
  {
   "cell_type": "markdown",
   "metadata": {},
   "source": [
    "# Initialize"
   ]
  },
  {
   "cell_type": "code",
   "execution_count": 2,
   "metadata": {},
   "outputs": [],
   "source": [
    "# Start things up\n",
    "np.random.seed(1)\n",
    "nodetype = 'int16'\n",
    "\n",
    "# read in stack of letters\n",
    "# read in stack of letters\n",
    "font = 'HN'\n",
    "n_pix = 100\n",
    "n_let = 26\n",
    "xjitter = 30\n",
    "yjitter = 15\n",
    "density = 15 # in thousandths\n",
    "#with open('letters/letterstack_j{:d}_f{:d}.pkl'.format(jitter,fontsize), 'rb') as f:\n",
    "with open('letters/letterstack_f{:s}_jx{:d}_jy{:d}_d{:d}.pkl'.format(font,xjitter,yjitter,density), 'rb') as f:\n",
    "    newlist = pickle.load(f)\n",
    "    letterstack = newlist[0].astype(nodetype)\n",
    "    # symbols: forward, shift, lowercase, lower, querycase, upper\n",
    "    symbols = newlist[1].astype(nodetype)\n",
    "lettermat = np.reshape(letterstack,(2*n_let,n_pix*n_pix))\n",
    "\n",
    "# Initialize network\n",
    "n_nodes = n_pix*n_pix\n",
    "n_keys = n_let+1 # letters plus initial condition\n",
    "weight_density = 0.2\n",
    "weight_std = 0.0001\n",
    "learning_rate = 0.025\n",
    "activation_threshold = 0.5\n",
    "\n",
    "weights = sw.sparse_weights(n_nodes,density=weight_density,weight_std=weight_std)\n",
    "\n",
    "def stepfunc(a,thresh):\n",
    "    return (a>thresh).astype(nodetype)\n"
   ]
  },
  {
   "cell_type": "markdown",
   "metadata": {},
   "source": [
    "# Go"
   ]
  },
  {
   "cell_type": "code",
   "execution_count": 3,
   "metadata": {},
   "outputs": [
    {
     "data": {
      "application/vnd.jupyter.widget-view+json": {
       "model_id": "c8ced11a74dd44af9a0cbd80b401093e",
       "version_major": 2,
       "version_minor": 0
      },
      "text/plain": [
       "FigureCanvasNbAgg()"
      ]
     },
     "metadata": {},
     "output_type": "display_data"
    }
   ],
   "source": [
    "# Go\n",
    "training_record = np.zeros((n_let,n_pix,n_pix),dtype=nodetype)\n",
    "test_record = np.zeros((n_let,n_pix,n_pix),dtype=nodetype)\n",
    "\n",
    "# Train\n",
    "nodes = lettermat[0,:].copy()\n",
    "for iletter in range(n_let):\n",
    "    if iletter:\n",
    "        old_nodes = nodes.copy()\n",
    "        nodes = lettermat[iletter,:]\n",
    "        weights.data += learning_rate * nodes[weights.row] * old_nodes[weights.col]\n",
    "    training_record[iletter,:,:] = np.reshape(nodes,(n_pix,n_pix))    \n",
    "    \n",
    "# Test\n",
    "nodes = lettermat[0,:].copy()\n",
    "for iletter in range(n_let):\n",
    "    test_record[iletter,:,:] = np.reshape(nodes,(n_pix,n_pix))\n",
    "    nodes = stepfunc(weights.dot(nodes),activation_threshold)\n",
    "\n",
    "\n",
    "fig,ax = plt.subplots(2, 1, figsize=(8,10))\n",
    "ax[0].imshow(et.etile(np.pad(training_record,((0,4),(0,0),(0,0)),'constant')))\n",
    "ax[1].imshow(et.etile(np.pad(test_record,((0,4),(0,0),(0,0)),'constant')))\n",
    "cormat = lettermat @ lettermat.T\n",
    "#im=ax[2].imshow(cormat)\n",
    "#fig.colorbar(im,ax=ax[2])\n",
    "plt.show()"
   ]
  },
  {
   "cell_type": "code",
   "execution_count": 4,
   "metadata": {},
   "outputs": [],
   "source": [
    "plt.savefig('episodic.png')"
   ]
  },
  {
   "cell_type": "code",
   "execution_count": null,
   "metadata": {},
   "outputs": [],
   "source": []
  }
 ],
 "metadata": {
  "kernelspec": {
   "display_name": "Python 3",
   "language": "python",
   "name": "python3"
  },
  "language_info": {
   "codemirror_mode": {
    "name": "ipython",
    "version": 3
   },
   "file_extension": ".py",
   "mimetype": "text/x-python",
   "name": "python",
   "nbconvert_exporter": "python",
   "pygments_lexer": "ipython3",
   "version": "3.7.3"
  },
  "toc-autonumbering": true,
  "toc-showcode": false,
  "toc-showmarkdowntxt": false,
  "toc-showtags": false
 },
 "nbformat": 4,
 "nbformat_minor": 2
}
