{
 "cells": [
  {
   "cell_type": "markdown",
   "metadata": {
    "toc-hr-collapsed": false
   },
   "source": [
    "# EBH model of associative memory"
   ]
  },
  {
   "cell_type": "markdown",
   "metadata": {
    "toc-hr-collapsed": false
   },
   "source": [
    "# Imports"
   ]
  },
  {
   "cell_type": "code",
   "execution_count": 1,
   "metadata": {},
   "outputs": [],
   "source": [
    "%matplotlib widget\n",
    "import numpy as np\n",
    "import matplotlib.pyplot as plt\n",
    "import time\n",
    "import pickle\n",
    "import math\n",
    "import sparse_weights as sw\n",
    "import corr2 as c2\n",
    "import etile as et"
   ]
  },
  {
   "cell_type": "markdown",
   "metadata": {},
   "source": [
    "# Initialize"
   ]
  },
  {
   "cell_type": "code",
   "execution_count": 2,
   "metadata": {},
   "outputs": [],
   "source": [
    "# Shift and Next modifiers\n",
    "# consonant vs vowel discrimination\n",
    "\n",
    "# Start things up\n",
    "np.random.seed(1)\n",
    "nodetype = 'int16'\n",
    "\n",
    "# read in stack of letters\n",
    "font = 'HN'\n",
    "n_pix = 100\n",
    "n_let = 26\n",
    "xjitter = 30\n",
    "yjitter = 15\n",
    "density = 15 # in thousandths\n",
    "#with open('letters/letterstack_j{:d}_f{:d}.pkl'.format(jitter,fontsize), 'rb') as f:\n",
    "with open('letters/letterstack_f{:s}_jx{:d}_jy{:d}_d{:d}.pkl'.format(font,xjitter,yjitter,density), 'rb') as f:\n",
    "    newlist = pickle.load(f)\n",
    "    letterstack = newlist[0].astype(nodetype)\n",
    "    # symbols: forward, shift, lowercase, lower, querycase, upper\n",
    "    symbols = newlist[1].astype(nodetype)\n",
    "lettermat = np.reshape(letterstack,(2*n_let,n_pix*n_pix))\n",
    "symbolmat = np.reshape(symbols,(6,n_pix*n_pix))\n",
    "forward = 0\n",
    "shift = 1\n",
    "lowercase = 2\n",
    "lower = 3\n",
    "querycase = 4\n",
    "upper = 5\n",
    "\n",
    "# Initialize network\n",
    "n_nodes = n_pix * n_pix\n",
    "weight_density = 0.1        # 0.2 for 1% steady\n",
    "weight_std = 0.0001           # 0.05 for 1% steady\n",
    "learning_rate = 0.02\n",
    "activation_threshold = 0.5  # 0.5 for 1% steady\n",
    "\n",
    "weights = sw.sparse_weights(n_nodes,density=weight_density,weight_std=weight_std)\n",
    "    \n",
    "def stepfunc(a,thresh):\n",
    "    return (a>thresh).astype(nodetype)\n"
   ]
  },
  {
   "cell_type": "markdown",
   "metadata": {},
   "source": [
    "# Go"
   ]
  },
  {
   "cell_type": "code",
   "execution_count": 3,
   "metadata": {},
   "outputs": [
    {
     "name": "stdout",
     "output_type": "stream",
     "text": [
      "done training sequence\n",
      "done training shift\n",
      "done training query\n",
      "Done testing\n"
     ]
    }
   ],
   "source": [
    "# Learn: sequence for all 52\n",
    "#        upshift for lower 26, downshift for upper 26\n",
    "#        querry case for all 52\n",
    "\n",
    "# Go\n",
    "reps = 1\n",
    "\n",
    "seqin = np.zeros((2*n_let,n_pix*n_pix))\n",
    "seqout = np.zeros((2*n_let,n_pix*n_pix))\n",
    "shiftin = np.zeros((2*n_let,n_pix*n_pix))\n",
    "shiftout = np.zeros((2*n_let,n_pix*n_pix))\n",
    "casein = np.zeros((2*n_let,n_pix*n_pix))\n",
    "caseout = np.zeros((2*n_let,n_pix*n_pix))\n",
    "\n",
    "clip_weights = False\n",
    "normalize_weights = False\n",
    "\n",
    "# Train\n",
    "for irep in range(reps):\n",
    "    # Sequence\n",
    "    for iletter in range(n_let-1): # -1 because z has no next letter\n",
    "        # lower case\n",
    "        inputnodes = lettermat[iletter,:] + symbolmat[forward,:]\n",
    "        outputnodes = lettermat[iletter+1,:]\n",
    "        weights.data += learning_rate * outputnodes[weights.row] * inputnodes[weights.col]\n",
    "        # upper case\n",
    "        inputnodes = lettermat[iletter+n_let,:] + symbolmat[forward,:]\n",
    "        outputnodes = lettermat[iletter+n_let+1,:]\n",
    "        weights.data += learning_rate * outputnodes[weights.row] * inputnodes[weights.col]\n",
    "    print('done training sequence')\n",
    "    # Upshift and Downshift\n",
    "    for iletter in range(n_let):\n",
    "        # lower case\n",
    "        inputnodes = lettermat[iletter,:] + symbolmat[shift,:]\n",
    "        outputnodes = lettermat[iletter+n_let,:]\n",
    "        weights.data += learning_rate * outputnodes[weights.row] * inputnodes[weights.col]\n",
    "        # upper case\n",
    "        inputnodes = lettermat[iletter+n_let,:] + symbolmat[lowercase,:]\n",
    "        outputnodes = lettermat[iletter,:]\n",
    "        weights.data += learning_rate * outputnodes[weights.row] * inputnodes[weights.col]\n",
    "    print('done training shift')\n",
    "    # Case query\n",
    "    for iletter in range(n_let):\n",
    "        # lower case\n",
    "        inputnodes = lettermat[iletter,:] + symbolmat[querycase,:]\n",
    "        outputnodes = symbolmat[lower,:]\n",
    "        weights.data += learning_rate * outputnodes[weights.row] * inputnodes[weights.col]\n",
    "        # upper case\n",
    "        inputnodes = lettermat[iletter+n_let,:] + symbolmat[querycase,:]\n",
    "        outputnodes = symbolmat[upper,:]\n",
    "        weights.data += learning_rate * outputnodes[weights.row] * inputnodes[weights.col]\n",
    "    print('done training query')\n",
    "    \n",
    "# Test\n",
    "# Sequence\n",
    "for iletter in range(n_let):\n",
    "    # lower case\n",
    "    inputnodes = lettermat[iletter,:] + symbolmat[forward,:]\n",
    "    seqin[iletter,:] = inputnodes.copy()\n",
    "    seqout[iletter,:] = weights.dot(inputnodes)\n",
    "    # upper case\n",
    "    inputnodes = lettermat[iletter+n_let,:] + symbolmat[forward,:]\n",
    "    seqin[iletter+n_let,:] = inputnodes.copy()\n",
    "    seqout[iletter+n_let,:] = weights.dot(inputnodes)\n",
    "# Upshift and Downshift\n",
    "for iletter in range(n_let):\n",
    "    # lower case\n",
    "    inputnodes = lettermat[iletter,:] + symbolmat[shift,:]\n",
    "    shiftin[iletter,:] = inputnodes.copy()\n",
    "    shiftout[iletter,:] = weights.dot(inputnodes)\n",
    "    # upper case\n",
    "    inputnodes = lettermat[iletter+n_let,:] + symbolmat[lowercase,:]\n",
    "    shiftin[iletter+n_let,:] = inputnodes.copy()\n",
    "    shiftout[iletter+n_let,:] = weights.dot(inputnodes)\n",
    "# Case query\n",
    "for iletter in range(n_let):\n",
    "    # lower case\n",
    "    inputnodes = lettermat[iletter,:] + symbolmat[querycase,:]\n",
    "    casein[iletter,:] = inputnodes.copy()\n",
    "    caseout[iletter,:] = weights.dot(inputnodes)\n",
    "    # upper case\n",
    "    inputnodes = lettermat[iletter+n_let,:] + symbolmat[querycase,:]\n",
    "    casein[iletter+n_let,:] = inputnodes.copy()\n",
    "    caseout[iletter+n_let,:] = weights.dot(inputnodes)\n",
    "print('Done testing')\n",
    "            "
   ]
  },
  {
   "cell_type": "code",
   "execution_count": 4,
   "metadata": {},
   "outputs": [
    {
     "name": "stdout",
     "output_type": "stream",
     "text": [
      "0.56 0.8461538461538461 0.8846153846153846\n"
     ]
    }
   ],
   "source": [
    "# Correlate output against all letters\n",
    "corrseq   = c2.corr2(seqout,lettermat)\n",
    "corrshift = c2.corr2(shiftout,lettermat)\n",
    "corrcase  = c2.corr2(caseout,symbolmat[(lower,upper),:])\n",
    "# Winner Take All output\n",
    "outseq    = np.argmax(corrseq,axis=1)\n",
    "outshift  = np.argmax(corrshift,axis=1)\n",
    "outcase   = np.argmax(corrcase,axis=1)\n",
    "# Number correct\n",
    "correct_seq   = np.sum(outseq[0:25]==np.arange(1,26,dtype=int)) + np.sum(outseq[26:51]==np.arange(27,52,dtype=int))\n",
    "correct_shift = np.sum(outshift[0:26]==np.arange(26,52,dtype=int)) + np.sum(outshift[26:52]==np.arange(0,26,dtype=int))\n",
    "correct_case  = np.sum(outcase[0:26]==0) + np.sum(outcase[26:52]==1)\n",
    "# fraction correct\n",
    "frac_seq   = correct_seq/50.\n",
    "frac_shift = correct_shift/52.\n",
    "frac_case  = correct_case/52.\n",
    "print(frac_seq,frac_shift,frac_case)\n",
    "fdata = (frac_seq,frac_shift,frac_case)"
   ]
  },
  {
   "cell_type": "code",
   "execution_count": 5,
   "metadata": {},
   "outputs": [
    {
     "data": {
      "application/vnd.jupyter.widget-view+json": {
       "model_id": "72a6457b365a44c1b8ab3a7f4e7f4b9e",
       "version_major": 2,
       "version_minor": 0
      },
      "text/plain": [
       "FigureCanvasNbAgg()"
      ]
     },
     "metadata": {},
     "output_type": "display_data"
    }
   ],
   "source": [
    "fig,ax = plt.subplots(4, 2, figsize=(8,16))\n",
    "im=ax[0][0].imshow(np.reshape(seqin[0,:],(n_pix,n_pix)))\n",
    "im=ax[0][1].imshow(np.reshape(seqout[0,:],(n_pix,n_pix)),vmax=1.2)\n",
    "im=ax[1][0].imshow(np.reshape(shiftin[0,:],(n_pix,n_pix)))\n",
    "im=ax[1][1].imshow(np.reshape(shiftout[0,:],(n_pix,n_pix)),vmax=1.2)\n",
    "im=ax[2][0].imshow(np.reshape(casein[0,:],(n_pix,n_pix)))\n",
    "im=ax[2][1].imshow(np.reshape(caseout[0,:],(n_pix,n_pix)),vmax=4)\n",
    "im=ax[3][0].imshow(np.reshape(letterstack[0,:]+np.sum(symbols,axis=0),(n_pix,n_pix)))\n",
    "\n",
    "plt.show()\n",
    "plt.savefig('associativeAB.png')"
   ]
  },
  {
   "cell_type": "code",
   "execution_count": 6,
   "metadata": {},
   "outputs": [
    {
     "data": {
      "application/vnd.jupyter.widget-view+json": {
       "model_id": "98b65cfba2f14b0c996177ea33f21776",
       "version_major": 2,
       "version_minor": 0
      },
      "text/plain": [
       "FigureCanvasNbAgg()"
      ]
     },
     "metadata": {},
     "output_type": "display_data"
    }
   ],
   "source": [
    "fig,ax = plt.subplots(figsize=(3,3))\n",
    "b = plt.bar(np.arange(3), fdata, 0.6)\n",
    "#plt.ylabel('Fraction Correct')\n",
    "plt.xticks(np.arange(3), ('Seq', 'Shift', 'Case'))\n",
    "plt.show()\n",
    "plt.savefig('associativeC.pdf')"
   ]
  },
  {
   "cell_type": "code",
   "execution_count": 7,
   "metadata": {},
   "outputs": [
    {
     "data": {
      "application/vnd.jupyter.widget-view+json": {
       "model_id": "f5fdfbd218b64aeaa24be391520f0491",
       "version_major": 2,
       "version_minor": 0
      },
      "text/plain": [
       "FigureCanvasNbAgg()"
      ]
     },
     "metadata": {},
     "output_type": "display_data"
    }
   ],
   "source": [
    "fig,ax = plt.subplots(2, 3, figsize=(10,6))\n",
    "im=ax[0][0].imshow(corrseq)\n",
    "im=ax[0][1].imshow(corrshift)\n",
    "im=ax[0][2].imshow(corrcase)\n",
    "ax[1][0].plot(outseq)\n",
    "ax[1][1].plot(outshift)\n",
    "ax[1][2].plot(outcase)\n",
    "#fig.colorbar(im,ax=ax[0])\n",
    "plt.show()"
   ]
  },
  {
   "cell_type": "code",
   "execution_count": 8,
   "metadata": {},
   "outputs": [
    {
     "data": {
      "application/vnd.jupyter.widget-view+json": {
       "model_id": "139ec20999004c798b7e8b6f8d9498b4",
       "version_major": 2,
       "version_minor": 0
      },
      "text/plain": [
       "FigureCanvasNbAgg()"
      ]
     },
     "metadata": {},
     "output_type": "display_data"
    }
   ],
   "source": [
    "fig,ax = plt.subplots(6, 1, figsize=(8,16))\n",
    "im=ax[0].imshow(et.etile(np.reshape(seqin,(-1,n_pix,n_pix))))\n",
    "im=ax[1].imshow(et.etile(np.reshape(seqout,(-1,n_pix,n_pix))))\n",
    "im=ax[2].imshow(et.etile(np.reshape(shiftin,(-1,n_pix,n_pix))))\n",
    "im=ax[3].imshow(et.etile(np.reshape(shiftout,(-1,n_pix,n_pix))))\n",
    "im=ax[4].imshow(et.etile(np.reshape(casein,(-1,n_pix,n_pix))))\n",
    "im=ax[5].imshow(et.etile(np.reshape(caseout,(-1,n_pix,n_pix))))\n",
    "#fig.colorbar(im,ax=ax[0])\n",
    "plt.show()"
   ]
  },
  {
   "cell_type": "code",
   "execution_count": null,
   "metadata": {},
   "outputs": [],
   "source": []
  }
 ],
 "metadata": {
  "kernelspec": {
   "display_name": "Python 3",
   "language": "python",
   "name": "python3"
  },
  "language_info": {
   "codemirror_mode": {
    "name": "ipython",
    "version": 3
   },
   "file_extension": ".py",
   "mimetype": "text/x-python",
   "name": "python",
   "nbconvert_exporter": "python",
   "pygments_lexer": "ipython3",
   "version": "3.7.3"
  },
  "toc-autonumbering": true,
  "toc-showcode": false,
  "toc-showmarkdowntxt": false,
  "toc-showtags": false
 },
 "nbformat": 4,
 "nbformat_minor": 2
}
